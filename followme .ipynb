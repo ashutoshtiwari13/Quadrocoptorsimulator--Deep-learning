{
 "cells": [
  {
   "cell_type": "code",
   "execution_count": 1,
   "metadata": {
    "collapsed": true
   },
   "outputs": [],
   "source": [
    "#Important data Collection Libraries\n",
    "import os\n",
    "import glob\n",
    "import sys\n",
    "import tensorflow as tf\n",
    "\n",
    "from scipy import misc\n",
    "import numpy as np"
   ]
  },
  {
   "cell_type": "code",
   "execution_count": 3,
   "metadata": {
    "collapsed": false
   },
   "outputs": [],
   "source": [
    "from tensorflow.contrib.keras.python import keras\n",
    "from tensorflow.contrib.keras.python.keras import layers, models\n",
    "from tensorflow import image"
   ]
  },
  {
   "cell_type": "code",
   "execution_count": 5,
   "metadata": {
    "collapsed": false
   },
   "outputs": [],
   "source": [
    "from utils import scoring_utils\n",
    "from utils.separable_conv2d import SeparableConv2DKeras,BilinearUpSampling2D\n",
    "from utils import data_iterator\n",
    "from utils import plotting_tools\n",
    "from utils import model_tools"
   ]
  },
  {
   "cell_type": "markdown",
   "metadata": {
    "collapsed": true
   },
   "source": [
    "### Seperable Convolutions - FCN layers"
   ]
  },
  {
   "cell_type": "code",
   "execution_count": 1,
   "metadata": {
    "collapsed": true
   },
   "outputs": [],
   "source": [
    "def separable_conv2d_batchnorm(input_layer, filters, strides=1):\n",
    "    output_layer = SeparableConv2DKeras(filters=filters,kernel_size=3, strides=strides,\n",
    "                             padding='same', activation='relu')(input_layer)\n",
    "    \n",
    "    output_layer = layers.BatchNormalization()(output_layer) \n",
    "    return output_layer\n",
    "\n",
    "def conv2d_batchnorm(input_layer, filters, kernel_size=3, strides=1):\n",
    "    output_layer = layers.Conv2D(filters=filters, kernel_size=kernel_size, strides=strides, \n",
    "                      padding='same', activation='relu')(input_layer)\n",
    "    \n",
    "    output_layer = layers.BatchNormalization()(output_layer) \n",
    "    return output_layer"
   ]
  },
  {
   "cell_type": "markdown",
   "metadata": {},
   "source": [
    "### Bilinear Upsampling \n",
    "\n",
    "It is used in the decoder block of FCN. Upsampling by a factor 2. The \"utils.separable_conv2d\" folder contains the implementation of customized form of Keras UpSampling2D named BilinearUpSampling2D."
   ]
  },
  {
   "cell_type": "code",
   "execution_count": 2,
   "metadata": {
    "collapsed": true
   },
   "outputs": [],
   "source": [
    "def bilinear_upsample(input_layer):\n",
    "    output_layer = BilinearUpSampling2D((2,2))(input_layer)\n",
    "    return output_layer"
   ]
  },
  {
   "cell_type": "markdown",
   "metadata": {},
   "source": [
    "### Building the Model \n",
    "\n",
    "#### Encoder Block"
   ]
  },
  {
   "cell_type": "code",
   "execution_count": 3,
   "metadata": {
    "collapsed": true
   },
   "outputs": [],
   "source": [
    "#the 'filters' parameter defines the size or depth of the output layer\n",
    "def encoder_block(input_layer, filters, strides):\n",
    "    output_layer = separable_conv2d_batchnorm(input_layer, filters, strides)\n",
    "    return output_layer"
   ]
  },
  {
   "cell_type": "markdown",
   "metadata": {},
   "source": [
    "#### Decoder Block"
   ]
  },
  {
   "cell_type": "code",
   "execution_count": 4,
   "metadata": {
    "collapsed": true
   },
   "outputs": [],
   "source": [
    "def decoder_block(small_ip_layer, large_ip_layer, filters):\n",
    "    \n",
    "    #Upsample the small input layer\n",
    "    upsample = bilinear_upsample(small_ip_layer)\n",
    "    #Concatenate the upsampled and large input layers using layers.concatenate\n",
    "    concatenate_upsample = layers.concatenate([upsample,large_ip_layer])\n",
    "    #Add some number of separable convolution layers\n",
    "    output_layer = separable_conv2d_batchnorm(concatenate_upsample,filters,1)\n",
    "    output_layer = separable_conv2d_batchnorm(output_layer,filters,1)\n",
    "    return output_layer"
   ]
  },
  {
   "cell_type": "markdown",
   "metadata": {},
   "source": [
    "### FCN Architecture "
   ]
  },
  {
   "cell_type": "code",
   "execution_count": 5,
   "metadata": {
    "collapsed": true
   },
   "outputs": [],
   "source": [
    "def fcn_model(inputs, num_classes):\n",
    "    \n",
    "    #Add Encoder Blocks. \n",
    "    filter = 96\n",
    "    encoder_one = encoder_block(inputs,filter,2)\n",
    "    encoder_two = encoder_block(encoder_one,filter *2, 2)\n",
    "    encoder_three = encoder_block(encoder_two,filter*4,2)\n",
    "    \n",
    "    #Add 1x1 Convolution layer using conv2d_batchnorm().\n",
    "    one_to_one_convolution = conv2d_batchnorm(encoder_three,filter*4,kernel_size=1,strides =1)\n",
    "    \n",
    "    #Add the same number of Decoder Blocks as the number of Encoder Blocks\n",
    "    decoder_three = decoder_block(one_to_one_convolution,encoder_two,filter *4)\n",
    "    decoder_two = decoder_block(decoder_three,encoder_one,filter *2)\n",
    "    decoder_one = decoder_block(decoder_two,inputs,filter)\n",
    "    \n",
    "    #Returns the output layer of your model.\n",
    "    return layers.Conv2D(num_classes, 3, activation='softmax', padding='same')(decoder_one)"
   ]
  }
 ],
 "metadata": {
  "anaconda-cloud": {},
  "kernelspec": {
   "display_name": "Python 3",
   "language": "python",
   "name": "python3"
  },
  "language_info": {
   "codemirror_mode": {
    "name": "ipython",
    "version": 3
   },
   "file_extension": ".py",
   "mimetype": "text/x-python",
   "name": "python",
   "nbconvert_exporter": "python",
   "pygments_lexer": "ipython3",
   "version": "3.5.6"
  }
 },
 "nbformat": 4,
 "nbformat_minor": 1
}
